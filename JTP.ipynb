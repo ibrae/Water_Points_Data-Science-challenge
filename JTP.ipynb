{
  "nbformat": 4,
  "nbformat_minor": 0,
  "metadata": {
    "colab": {
      "name": "JTP.ipynb",
      "provenance": [],
      "collapsed_sections": []
    },
    "kernelspec": {
      "name": "python3",
      "display_name": "Python 3"
    },
    "language_info": {
      "name": "python"
    }
  },
  "cells": [
    {
      "cell_type": "code",
      "metadata": {
        "id": "xyPAfekc0bQY"
      },
      "source": [
        ""
      ],
      "execution_count": null,
      "outputs": []
    },
    {
      "cell_type": "code",
      "metadata": {
        "id": "-AN4ef2d1nMX"
      },
      "source": [
        "#import libraries\n",
        "import pandas as pd\n",
        "import urllib.request, json, csv\n",
        "import requests"
      ],
      "execution_count": 109,
      "outputs": []
    },
    {
      "cell_type": "code",
      "metadata": {
        "colab": {
          "base_uri": "https://localhost:8080/",
          "height": 479
        },
        "id": "uFf-Dj67QS2C",
        "outputId": "6d1ea3cf-bcc1-4990-ac90-21ec8bb9ca1b"
      },
      "source": [
        "#load data from url\n",
        "url_dataset = \"https://raw.githubusercontent.com/onaio/ona-tech/master/data/water_points.json\"\n",
        "with urllib.request.urlopen(url_dataset) as url:\n",
        "  # load the data to pandas\n",
        "    df = pd.read_json(url.read())\n",
        "df.head()"
      ],
      "execution_count": 110,
      "outputs": [
        {
          "output_type": "execute_result",
          "data": {
            "text/html": [
              "<div>\n",
              "<style scoped>\n",
              "    .dataframe tbody tr th:only-of-type {\n",
              "        vertical-align: middle;\n",
              "    }\n",
              "\n",
              "    .dataframe tbody tr th {\n",
              "        vertical-align: top;\n",
              "    }\n",
              "\n",
              "    .dataframe thead th {\n",
              "        text-align: right;\n",
              "    }\n",
              "</style>\n",
              "<table border=\"1\" class=\"dataframe\">\n",
              "  <thead>\n",
              "    <tr style=\"text-align: right;\">\n",
              "      <th></th>\n",
              "      <th>water_pay</th>\n",
              "      <th>respondent</th>\n",
              "      <th>research_asst_name</th>\n",
              "      <th>water_used_season</th>\n",
              "      <th>_bamboo_dataset_id</th>\n",
              "      <th>_deleted_at</th>\n",
              "      <th>water_point_condition</th>\n",
              "      <th>_xform_id_string</th>\n",
              "      <th>other_point_1km</th>\n",
              "      <th>_attachments</th>\n",
              "      <th>communities_villages</th>\n",
              "      <th>end</th>\n",
              "      <th>animal_number</th>\n",
              "      <th>water_point_id</th>\n",
              "      <th>start</th>\n",
              "      <th>water_connected</th>\n",
              "      <th>water_manager_name</th>\n",
              "      <th>_status</th>\n",
              "      <th>enum_id_1</th>\n",
              "      <th>water_lift_mechanism</th>\n",
              "      <th>districts_divisions</th>\n",
              "      <th>_uuid</th>\n",
              "      <th>grid</th>\n",
              "      <th>date</th>\n",
              "      <th>formhub/uuid</th>\n",
              "      <th>road_available</th>\n",
              "      <th>water_functioning</th>\n",
              "      <th>_submission_time</th>\n",
              "      <th>signal</th>\n",
              "      <th>water_source_type</th>\n",
              "      <th>_geolocation</th>\n",
              "      <th>water_point_image</th>\n",
              "      <th>water_point_geocode</th>\n",
              "      <th>deviceid</th>\n",
              "      <th>locations_wards</th>\n",
              "      <th>water_manager</th>\n",
              "      <th>water_developer</th>\n",
              "      <th>_id</th>\n",
              "      <th>animal_point</th>\n",
              "      <th>water_mechanism_plate</th>\n",
              "      <th>water_lift_mechanism_type</th>\n",
              "      <th>road_type</th>\n",
              "      <th>water_mechanism_plate_units</th>\n",
              "      <th>water_mechanism_plate_no</th>\n",
              "      <th>water_not_functioning</th>\n",
              "      <th>water_source_type_other</th>\n",
              "      <th>simserial</th>\n",
              "      <th>subscriberid</th>\n",
              "    </tr>\n",
              "  </thead>\n",
              "  <tbody>\n",
              "    <tr>\n",
              "      <th>0</th>\n",
              "      <td>no</td>\n",
              "      <td>community</td>\n",
              "      <td>Haruna Mohammed</td>\n",
              "      <td>year_round</td>\n",
              "      <td></td>\n",
              "      <td>NaT</td>\n",
              "      <td>functioning</td>\n",
              "      <td>_08_Water_points_CV</td>\n",
              "      <td>no</td>\n",
              "      <td>[north_ghana/attachments/1351696546452.jpg]</td>\n",
              "      <td>Gumaryili</td>\n",
              "      <td>2012-11-12T11:46:32.454Z</td>\n",
              "      <td>more_500</td>\n",
              "      <td>xxx</td>\n",
              "      <td>2012-10-31T15:11:04.618Z</td>\n",
              "      <td>no</td>\n",
              "      <td>community members</td>\n",
              "      <td>submitted_via_web</td>\n",
              "      <td>5</td>\n",
              "      <td>no</td>\n",
              "      <td>northern</td>\n",
              "      <td>f8bcee72d7a0400fb99ae11bbf804010</td>\n",
              "      <td>grid_further_500_m</td>\n",
              "      <td>2012-10-31</td>\n",
              "      <td>4d41d54d134c4bfa9078571addd819b9</td>\n",
              "      <td>no</td>\n",
              "      <td>yes</td>\n",
              "      <td>2012-11-13 07:13:57</td>\n",
              "      <td>low</td>\n",
              "      <td>dam_dugout</td>\n",
              "      <td>[10.1892764, -0.66410362]</td>\n",
              "      <td>1351696546452.jpg</td>\n",
              "      <td>10.1892764 -0.66410362 155.10000610351563 5.0</td>\n",
              "      <td>355047040123780</td>\n",
              "      <td>west_mamprusi</td>\n",
              "      <td>community</td>\n",
              "      <td>community</td>\n",
              "      <td>381705</td>\n",
              "      <td>yes</td>\n",
              "      <td>NaN</td>\n",
              "      <td>NaN</td>\n",
              "      <td>NaN</td>\n",
              "      <td>NaN</td>\n",
              "      <td>NaN</td>\n",
              "      <td>NaN</td>\n",
              "      <td>NaN</td>\n",
              "      <td>NaN</td>\n",
              "      <td>NaN</td>\n",
              "    </tr>\n",
              "    <tr>\n",
              "      <th>1</th>\n",
              "      <td>no</td>\n",
              "      <td>community</td>\n",
              "      <td>Haruna Mohmmed</td>\n",
              "      <td>year_round</td>\n",
              "      <td></td>\n",
              "      <td>NaT</td>\n",
              "      <td>functioning</td>\n",
              "      <td>_08_Water_points_CV</td>\n",
              "      <td>yes</td>\n",
              "      <td>[north_ghana/attachments/1351701849971.jpg]</td>\n",
              "      <td>Selinvoya</td>\n",
              "      <td>2012-11-12T11:49:36.619Z</td>\n",
              "      <td>50_to_500</td>\n",
              "      <td>xxx</td>\n",
              "      <td>2012-10-31T16:41:49.738Z</td>\n",
              "      <td>no</td>\n",
              "      <td>Amadu Salifu</td>\n",
              "      <td>submitted_via_web</td>\n",
              "      <td>5</td>\n",
              "      <td>yes</td>\n",
              "      <td>northern</td>\n",
              "      <td>c2f6b298955f47ab9f177bee1214141d</td>\n",
              "      <td>grid_further_500_m</td>\n",
              "      <td>2012-10-31</td>\n",
              "      <td>4d41d54d134c4bfa9078571addd819b9</td>\n",
              "      <td>yes</td>\n",
              "      <td>yes</td>\n",
              "      <td>2012-11-13 07:14:04</td>\n",
              "      <td>high</td>\n",
              "      <td>unprotected_well</td>\n",
              "      <td>[10.28173052, -0.56901122]</td>\n",
              "      <td>1351701849971.jpg</td>\n",
              "      <td>10.28173052 -0.56901122 201.89999389648438 5.0</td>\n",
              "      <td>355047040123780</td>\n",
              "      <td>west_mamprusi</td>\n",
              "      <td>individual</td>\n",
              "      <td>community</td>\n",
              "      <td>381706</td>\n",
              "      <td>yes</td>\n",
              "      <td>no</td>\n",
              "      <td>manual_power</td>\n",
              "      <td>gravel</td>\n",
              "      <td>NaN</td>\n",
              "      <td>NaN</td>\n",
              "      <td>NaN</td>\n",
              "      <td>NaN</td>\n",
              "      <td>NaN</td>\n",
              "      <td>NaN</td>\n",
              "    </tr>\n",
              "    <tr>\n",
              "      <th>2</th>\n",
              "      <td>no</td>\n",
              "      <td>community</td>\n",
              "      <td>Haruna Mohammed</td>\n",
              "      <td>year_round</td>\n",
              "      <td></td>\n",
              "      <td>NaT</td>\n",
              "      <td>functioning</td>\n",
              "      <td>_08_Water_points_CV</td>\n",
              "      <td>yes</td>\n",
              "      <td>[north_ghana/attachments/1351702462336.jpg]</td>\n",
              "      <td>Selinvoya</td>\n",
              "      <td>2012-10-31T16:57:37.864Z</td>\n",
              "      <td>50_to_500</td>\n",
              "      <td>xxx</td>\n",
              "      <td>2012-10-31T16:52:02.601Z</td>\n",
              "      <td>no</td>\n",
              "      <td>Sulemana Abdulai</td>\n",
              "      <td>submitted_via_web</td>\n",
              "      <td>5</td>\n",
              "      <td>yes</td>\n",
              "      <td>northern</td>\n",
              "      <td>6bc6d188611d47f6a666cfd1eaa33998</td>\n",
              "      <td>grid_further_500_m</td>\n",
              "      <td>2012-10-31</td>\n",
              "      <td>4d41d54d134c4bfa9078571addd819b9</td>\n",
              "      <td>yes</td>\n",
              "      <td>yes</td>\n",
              "      <td>2012-11-13 07:14:07</td>\n",
              "      <td>high</td>\n",
              "      <td>borehole</td>\n",
              "      <td>[10.28169238, -0.56962993]</td>\n",
              "      <td>1351702462336.jpg</td>\n",
              "      <td>10.28169238 -0.56962993 202.60000610351563 5.0</td>\n",
              "      <td>355047040123780</td>\n",
              "      <td>west_mamprusi</td>\n",
              "      <td>community</td>\n",
              "      <td>individual</td>\n",
              "      <td>381707</td>\n",
              "      <td>yes</td>\n",
              "      <td>no</td>\n",
              "      <td>manual_power</td>\n",
              "      <td>paved</td>\n",
              "      <td>NaN</td>\n",
              "      <td>NaN</td>\n",
              "      <td>NaN</td>\n",
              "      <td>NaN</td>\n",
              "      <td>NaN</td>\n",
              "      <td>NaN</td>\n",
              "    </tr>\n",
              "    <tr>\n",
              "      <th>3</th>\n",
              "      <td>no</td>\n",
              "      <td>community</td>\n",
              "      <td>Haruna Mohammed</td>\n",
              "      <td>year_round</td>\n",
              "      <td></td>\n",
              "      <td>NaT</td>\n",
              "      <td>functioning</td>\n",
              "      <td>_08_Water_points_CV</td>\n",
              "      <td>yes</td>\n",
              "      <td>[north_ghana/attachments/1351702971561.jpg]</td>\n",
              "      <td>Selinvoya</td>\n",
              "      <td>2012-10-31T17:06:55.047Z</td>\n",
              "      <td>50_to_500</td>\n",
              "      <td>xxx</td>\n",
              "      <td>2012-10-31T16:58:46.672Z</td>\n",
              "      <td>no</td>\n",
              "      <td>Haruna Mohammed</td>\n",
              "      <td>submitted_via_web</td>\n",
              "      <td>5</td>\n",
              "      <td>yes</td>\n",
              "      <td>northern</td>\n",
              "      <td>4b28ac4cbba744d79ba4257f772f94d6</td>\n",
              "      <td>grid_further_500_m</td>\n",
              "      <td>2012-10-31</td>\n",
              "      <td>4d41d54d134c4bfa9078571addd819b9</td>\n",
              "      <td>yes</td>\n",
              "      <td>yes</td>\n",
              "      <td>2012-11-13 07:14:14</td>\n",
              "      <td>high</td>\n",
              "      <td>borehole</td>\n",
              "      <td>[10.28115661, -0.56918339]</td>\n",
              "      <td>1351702971561.jpg</td>\n",
              "      <td>10.28115661 -0.56918339 199.6999969482422 5.0</td>\n",
              "      <td>355047040123780</td>\n",
              "      <td>west_mamprusi</td>\n",
              "      <td>individual</td>\n",
              "      <td>community</td>\n",
              "      <td>381708</td>\n",
              "      <td>yes</td>\n",
              "      <td>no</td>\n",
              "      <td>manual_power</td>\n",
              "      <td>paved</td>\n",
              "      <td>NaN</td>\n",
              "      <td>NaN</td>\n",
              "      <td>NaN</td>\n",
              "      <td>NaN</td>\n",
              "      <td>NaN</td>\n",
              "      <td>NaN</td>\n",
              "    </tr>\n",
              "    <tr>\n",
              "      <th>4</th>\n",
              "      <td>no</td>\n",
              "      <td>community</td>\n",
              "      <td>Haruna Mohammed</td>\n",
              "      <td>year_round</td>\n",
              "      <td></td>\n",
              "      <td>NaT</td>\n",
              "      <td>functioning</td>\n",
              "      <td>_08_Water_points_CV</td>\n",
              "      <td>yes</td>\n",
              "      <td>[north_ghana/attachments/1351703622326.jpg]</td>\n",
              "      <td>Selinvoya</td>\n",
              "      <td>2012-10-31T17:15:57.847Z</td>\n",
              "      <td>50_to_500</td>\n",
              "      <td>xxx</td>\n",
              "      <td>2012-10-31T17:08:27.160Z</td>\n",
              "      <td>no</td>\n",
              "      <td>Sulemana</td>\n",
              "      <td>submitted_via_web</td>\n",
              "      <td>5</td>\n",
              "      <td>yes</td>\n",
              "      <td>northern</td>\n",
              "      <td>7893ce5321804f229e533f36e90c9c6f</td>\n",
              "      <td>grid_further_500_m</td>\n",
              "      <td>2012-10-31</td>\n",
              "      <td>4d41d54d134c4bfa9078571addd819b9</td>\n",
              "      <td>yes</td>\n",
              "      <td>yes</td>\n",
              "      <td>2012-11-13 07:14:22</td>\n",
              "      <td>high</td>\n",
              "      <td>borehole</td>\n",
              "      <td>[10.28044635, -0.56723556]</td>\n",
              "      <td>1351703622326.jpg</td>\n",
              "      <td>10.28044635 -0.56723556 208.6999969482422 5.0</td>\n",
              "      <td>355047040123780</td>\n",
              "      <td>west_mamprusi</td>\n",
              "      <td>community</td>\n",
              "      <td>community</td>\n",
              "      <td>381709</td>\n",
              "      <td>yes</td>\n",
              "      <td>no</td>\n",
              "      <td>manual_power</td>\n",
              "      <td>paved</td>\n",
              "      <td>NaN</td>\n",
              "      <td>NaN</td>\n",
              "      <td>NaN</td>\n",
              "      <td>NaN</td>\n",
              "      <td>NaN</td>\n",
              "      <td>NaN</td>\n",
              "    </tr>\n",
              "  </tbody>\n",
              "</table>\n",
              "</div>"
            ],
            "text/plain": [
              "  water_pay respondent  ... simserial subscriberid\n",
              "0        no  community  ...       NaN          NaN\n",
              "1        no  community  ...       NaN          NaN\n",
              "2        no  community  ...       NaN          NaN\n",
              "3        no  community  ...       NaN          NaN\n",
              "4        no  community  ...       NaN          NaN\n",
              "\n",
              "[5 rows x 48 columns]"
            ]
          },
          "metadata": {},
          "execution_count": 110
        }
      ]
    },
    {
      "cell_type": "code",
      "metadata": {
        "colab": {
          "base_uri": "https://localhost:8080/",
          "height": 204
        },
        "id": "4yXlagnE5_8f",
        "outputId": "15738561-76a8-40b5-f054-b8f0e65e5740"
      },
      "source": [
        "# relevant columns\n",
        "df= df[[\"communities_villages\", \"water_point_condition\", \"water_functioning\"]]\n",
        "df.tail()\n",
        "#df.size"
      ],
      "execution_count": 111,
      "outputs": [
        {
          "output_type": "execute_result",
          "data": {
            "text/html": [
              "<div>\n",
              "<style scoped>\n",
              "    .dataframe tbody tr th:only-of-type {\n",
              "        vertical-align: middle;\n",
              "    }\n",
              "\n",
              "    .dataframe tbody tr th {\n",
              "        vertical-align: top;\n",
              "    }\n",
              "\n",
              "    .dataframe thead th {\n",
              "        text-align: right;\n",
              "    }\n",
              "</style>\n",
              "<table border=\"1\" class=\"dataframe\">\n",
              "  <thead>\n",
              "    <tr style=\"text-align: right;\">\n",
              "      <th></th>\n",
              "      <th>communities_villages</th>\n",
              "      <th>water_point_condition</th>\n",
              "      <th>water_functioning</th>\n",
              "    </tr>\n",
              "  </thead>\n",
              "  <tbody>\n",
              "    <tr>\n",
              "      <th>707</th>\n",
              "      <td>Suik</td>\n",
              "      <td>functioning</td>\n",
              "      <td>yes</td>\n",
              "    </tr>\n",
              "    <tr>\n",
              "      <th>708</th>\n",
              "      <td>Vundema</td>\n",
              "      <td>broken</td>\n",
              "      <td>yes</td>\n",
              "    </tr>\n",
              "    <tr>\n",
              "      <th>709</th>\n",
              "      <td>Vundema</td>\n",
              "      <td>broken</td>\n",
              "      <td>yes</td>\n",
              "    </tr>\n",
              "    <tr>\n",
              "      <th>710</th>\n",
              "      <td>Jiniensa</td>\n",
              "      <td>functioning</td>\n",
              "      <td>yes</td>\n",
              "    </tr>\n",
              "    <tr>\n",
              "      <th>711</th>\n",
              "      <td>Jagsa</td>\n",
              "      <td>functioning</td>\n",
              "      <td>yes</td>\n",
              "    </tr>\n",
              "  </tbody>\n",
              "</table>\n",
              "</div>"
            ],
            "text/plain": [
              "    communities_villages water_point_condition water_functioning\n",
              "707                 Suik           functioning               yes\n",
              "708              Vundema                broken               yes\n",
              "709              Vundema                broken               yes\n",
              "710             Jiniensa           functioning               yes\n",
              "711                Jagsa           functioning               yes"
            ]
          },
          "metadata": {},
          "execution_count": 111
        }
      ]
    },
    {
      "cell_type": "code",
      "metadata": {
        "colab": {
          "base_uri": "https://localhost:8080/"
        },
        "id": "1pmm55fjNPsA",
        "outputId": "61f00e86-475d-4e75-c9a3-73aa718af6d8"
      },
      "source": [
        "df['water_point_condition'].value_counts()"
      ],
      "execution_count": 112,
      "outputs": [
        {
          "output_type": "execute_result",
          "data": {
            "text/plain": [
              "functioning           590\n",
              "broken                 40\n",
              "abandoned              36\n",
              "newly_constructed      28\n",
              "under_construction     16\n",
              "na_dn                   2\n",
              "Name: water_point_condition, dtype: int64"
            ]
          },
          "metadata": {},
          "execution_count": 112
        }
      ]
    },
    {
      "cell_type": "code",
      "metadata": {
        "id": "cx5BdSNYKDSN"
      },
      "source": [
        "class waterPoints:\n",
        "  #initialize the class attributes\n",
        "  def __init__(self,data):\n",
        "    # load data from the url\n",
        "    self.data = data \n",
        "   #The number of water points that are functional\n",
        "  def functional_water_points (self):\n",
        "    #filter the data by functional water points\n",
        "    df1=self.data[self.data['water_functioning'] ==\"yes\"]\n",
        "    #convert to dataframe\n",
        "    df1= df1.groupby('water_functioning').size().to_frame()\n",
        "    df1= df1.rename(columns={0:\"number_functional\"})\n",
        "    print(\"1: The number of water points that are functional:\")\n",
        "    print(df1)\n",
        "\n",
        "  #Calculate number of water points per community\n",
        "  def community_waterpoints (self):\n",
        "    df2= self.data.groupby(\"communities_villages\").size().to_frame()\n",
        "    df2=df2.rename(columns={0:\"number_water_points\"})\n",
        "    print(\"2: Number of water points per community: \")\n",
        "    print(df2)\n",
        "\n",
        "  #The rank for each community by the percentage of broken water points\n",
        "  def broken_water_points (self):\n",
        "    #filter by broken points\n",
        "    bwp = self.data['water_point_condition'] ==\"broken\"\n",
        "    df3= self.data[bwp]\n",
        "    #Convert to dataframe\n",
        "    df3= df3.groupby(\"communities_villages\").size().to_frame()\n",
        "    df3=df3.rename(columns={0:'Broken_Points_percentage'})\n",
        "    # Calculate the sum of all the broken water points\n",
        "    Total_broken = df3['Broken_Points_percentage'].sum()\n",
        "    # calculate the percentage of broken water points\n",
        "    df3['Broken_Points_percentage'] = df3['Broken_Points_percentage'].map(lambda  x: (x/Total_broken)*100)\n",
        "    print()\n",
        "    print(\"3: Rank for each community by the percentage of broken water points. \")\n",
        "    print(df3.sort_values(ascending=False, by='Broken_Points_percentage'))\n",
        " \n"
      ],
      "execution_count": 116,
      "outputs": []
    },
    {
      "cell_type": "code",
      "metadata": {
        "id": "YG4Y3j742aY8",
        "colab": {
          "base_uri": "https://localhost:8080/"
        },
        "outputId": "ceb83be0-c43d-4189-86b0-eb86d6f37df7"
      },
      "source": [
        "# instantiate the class\n",
        "obj=waterPoints(df)\n",
        "print()\n",
        "#Calling methods by created object\n",
        "obj.functional_water_points()\n",
        "print()\n",
        "obj.community_waterpoints()\n",
        "print()\n",
        "obj.broken_water_points()"
      ],
      "execution_count": 118,
      "outputs": [
        {
          "output_type": "stream",
          "text": [
            "\n",
            "1: The number of water points that are functional:\n",
            "                   number_functional\n",
            "water_functioning                   \n",
            "yes                              623\n",
            "\n",
            "2: Number of water points per community: \n",
            "                      number_water_points\n",
            "communities_villages                     \n",
            "Abanyeri                                4\n",
            "Akpari-yeri                             3\n",
            "Alavanyo                                3\n",
            "Arigu                                  12\n",
            "Badomsa                                27\n",
            "...                                   ...\n",
            "Zogsa                                   6\n",
            "Zua                                    28\n",
            "Zuedema                                18\n",
            "Zukpeni                                 6\n",
            "Zundem                                 30\n",
            "\n",
            "[65 rows x 1 columns]\n",
            "\n",
            "\n",
            "3: Rank for each community by the percentage of broken water points. \n",
            "                      Percentage_Broken_Points\n",
            "communities_villages                          \n",
            "Nayoku                                    15.0\n",
            "Kubore                                    10.0\n",
            "Loagri_1_                                 10.0\n",
            "Arigu                                      5.0\n",
            "Namgurima                                  5.0\n",
            "Gbaarigu                                   5.0\n",
            "Zanwara                                    5.0\n",
            "Vundema                                    5.0\n",
            "Soo                                        5.0\n",
            "Bandem                                     5.0\n",
            "Zogsa                                      2.5\n",
            "Tantala                                    2.5\n",
            "Nyankpiensa                                2.5\n",
            "Longsa                                     2.5\n",
            "Luisa                                      2.5\n",
            "Kpatarigu                                  2.5\n",
            "Kanwaasa                                   2.5\n",
            "Kaasa                                      2.5\n",
            "Jagsa                                      2.5\n",
            "Guuta                                      2.5\n",
            "Banyangsa                                  2.5\n",
            "Zukpeni                                    2.5\n"
          ],
          "name": "stdout"
        }
      ]
    },
    {
      "cell_type": "code",
      "metadata": {
        "id": "u3X2_-21M7OM"
      },
      "source": [
        ""
      ],
      "execution_count": null,
      "outputs": []
    },
    {
      "cell_type": "code",
      "metadata": {
        "id": "IApU__xU6xS0"
      },
      "source": [
        "#functional water points\n",
        "new = df['water_functioning'] ==\"yes\"\n",
        "df1=df[new]\n",
        "#df1.tail()\n"
      ],
      "execution_count": 59,
      "outputs": []
    },
    {
      "cell_type": "code",
      "metadata": {
        "colab": {
          "base_uri": "https://localhost:8080/",
          "height": 204
        },
        "id": "i9Je1Pd3LaUp",
        "outputId": "2613128c-d3bc-4a7c-ef04-5bbce927065f"
      },
      "source": [
        "# Number of broken water points\n",
        "bwp = df['water_point_condition'] ==\"broken\"\n",
        "data3=data[bwp]\n",
        "data3.head()"
      ],
      "execution_count": null,
      "outputs": [
        {
          "output_type": "execute_result",
          "data": {
            "text/html": [
              "<div>\n",
              "<style scoped>\n",
              "    .dataframe tbody tr th:only-of-type {\n",
              "        vertical-align: middle;\n",
              "    }\n",
              "\n",
              "    .dataframe tbody tr th {\n",
              "        vertical-align: top;\n",
              "    }\n",
              "\n",
              "    .dataframe thead th {\n",
              "        text-align: right;\n",
              "    }\n",
              "</style>\n",
              "<table border=\"1\" class=\"dataframe\">\n",
              "  <thead>\n",
              "    <tr style=\"text-align: right;\">\n",
              "      <th></th>\n",
              "      <th>communities_villages</th>\n",
              "      <th>water_point_condition</th>\n",
              "      <th>water_functioning</th>\n",
              "    </tr>\n",
              "  </thead>\n",
              "  <tbody>\n",
              "    <tr>\n",
              "      <th>51</th>\n",
              "      <td>Nayoku</td>\n",
              "      <td>broken</td>\n",
              "      <td>no</td>\n",
              "    </tr>\n",
              "    <tr>\n",
              "      <th>61</th>\n",
              "      <td>Nayoku</td>\n",
              "      <td>broken</td>\n",
              "      <td>no</td>\n",
              "    </tr>\n",
              "    <tr>\n",
              "      <th>64</th>\n",
              "      <td>Nayoku</td>\n",
              "      <td>broken</td>\n",
              "      <td>no</td>\n",
              "    </tr>\n",
              "    <tr>\n",
              "      <th>65</th>\n",
              "      <td>Nayoku</td>\n",
              "      <td>broken</td>\n",
              "      <td>no</td>\n",
              "    </tr>\n",
              "    <tr>\n",
              "      <th>66</th>\n",
              "      <td>Nayoku</td>\n",
              "      <td>broken</td>\n",
              "      <td>no</td>\n",
              "    </tr>\n",
              "  </tbody>\n",
              "</table>\n",
              "</div>"
            ],
            "text/plain": [
              "   communities_villages water_point_condition water_functioning\n",
              "51               Nayoku                broken                no\n",
              "61               Nayoku                broken                no\n",
              "64               Nayoku                broken                no\n",
              "65               Nayoku                broken                no\n",
              "66               Nayoku                broken                no"
            ]
          },
          "metadata": {},
          "execution_count": 75
        }
      ]
    },
    {
      "cell_type": "code",
      "metadata": {
        "colab": {
          "base_uri": "https://localhost:8080/"
        },
        "id": "FXQdtX2p7LTD",
        "outputId": "71215209-3223-4ff6-ee19-e270c699b18a"
      },
      "source": [
        "#Number\n",
        "data3['water_functioning'].size"
      ],
      "execution_count": null,
      "outputs": [
        {
          "output_type": "execute_result",
          "data": {
            "text/plain": [
              "40"
            ]
          },
          "metadata": {},
          "execution_count": 76
        }
      ]
    },
    {
      "cell_type": "code",
      "metadata": {
        "colab": {
          "base_uri": "https://localhost:8080/"
        },
        "id": "5aGP37glMSCI",
        "outputId": "7bf00f61-1abf-4370-e0c9-6ecde5b5ca6b"
      },
      "source": [
        "#Number of water points per community\n",
        "cp= cdf.groupby(\"communities_villages\").size()\n",
        "cp"
      ],
      "execution_count": null,
      "outputs": [
        {
          "output_type": "execute_result",
          "data": {
            "text/plain": [
              "communities_villages\n",
              "Arigu          2\n",
              "Bandem         2\n",
              "Banyangsa      1\n",
              "Gbaarigu       2\n",
              "Guuta          1\n",
              "Jagsa          1\n",
              "Kaasa          1\n",
              "Kanwaasa       1\n",
              "Kpatarigu      1\n",
              "Kubore         4\n",
              "Loagri_1_      4\n",
              "Longsa         1\n",
              "Luisa          1\n",
              "Namgurima      2\n",
              "Nayoku         6\n",
              "Nyankpiensa    1\n",
              "Soo            2\n",
              "Tantala        1\n",
              "Vundema        2\n",
              "Zanwara        2\n",
              "Zogsa          1\n",
              "Zukpeni        1\n",
              "dtype: int64"
            ]
          },
          "metadata": {},
          "execution_count": 42
        }
      ]
    },
    {
      "cell_type": "code",
      "metadata": {
        "colab": {
          "base_uri": "https://localhost:8080/"
        },
        "id": "Ak52nNGeOTVs",
        "outputId": "09a861ee-ab84-4e51-9e73-a81fdcf55a86"
      },
      "source": [
        "type(cp)"
      ],
      "execution_count": null,
      "outputs": [
        {
          "output_type": "execute_result",
          "data": {
            "text/plain": [
              "pandas.core.series.Series"
            ]
          },
          "metadata": {},
          "execution_count": 47
        }
      ]
    },
    {
      "cell_type": "code",
      "metadata": {
        "id": "QlAVWs1pPDpw"
      },
      "source": [
        ""
      ],
      "execution_count": null,
      "outputs": []
    }
  ]
}
